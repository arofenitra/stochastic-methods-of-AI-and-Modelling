{
  "nbformat": 4,
  "nbformat_minor": 0,
  "metadata": {
    "colab": {
      "provenance": [],
      "authorship_tag": "ABX9TyP9N2odHFISaBZSJVh6dXg6",
      "include_colab_link": true
    },
    "kernelspec": {
      "name": "python3",
      "display_name": "Python 3"
    },
    "language_info": {
      "name": "python"
    }
  },
  "cells": [
    {
      "cell_type": "markdown",
      "metadata": {
        "id": "view-in-github",
        "colab_type": "text"
      },
      "source": [
        "<a href=\"https://colab.research.google.com/github/arofenitra/stochastic-methods-of-AI-and-Modelling/blob/main/Law_of_Large_Numbers.ipynb\" target=\"_parent\"><img src=\"https://colab.research.google.com/assets/colab-badge.svg\" alt=\"Open In Colab\"/></a>"
      ]
    },
    {
      "cell_type": "markdown",
      "source": [
        "## Convergence\n",
        "### Convergence in probability\n",
        "A sequence of random varianle $X_1,...$ converge in *probability* in a random variable $X$ ( denoted as $\\displaystyle X_n \\xrightarrow{p} X$ or $p\\displaystyle \\lim_{n→∞}X_n=X $)  if $$∀ϵ>0: \\lim_{n→ ∞}P\\left(|X_n-X|>ϵ\\right)=0 $$\n",
        "### Convergence in distribution\n",
        "A A sequence of random varianle $X_1,...$ with cumulative distribution functions $F_1,...$ converge in *distribution* in a random variable $X$ with cdf $F$ if $\\displaystyle \\lim_{n→∞}F_n(x)=F(x) \\; ∀x\\in \\mathbb{R}$"
      ],
      "metadata": {
        "id": "p0KAVQScTUF2"
      }
    },
    {
      "cell_type": "code",
      "execution_count": null,
      "metadata": {
        "id": "omBhp6OfS_op"
      },
      "outputs": [],
      "source": []
    }
  ]
}